{
 "cells": [
  {
   "cell_type": "markdown",
   "id": "1479fb8c-5aca-48b4-ac56-9aafd5123900",
   "metadata": {},
   "source": [
    "# Deploy a Machine Learning Model using a Serverless Inference Endpoint\n",
    "Deploying a pre-trained binary classification XGBoost model that has been trained on a synthetic auto insurance claims data, to a serverless endpoint in SageMaker. \n",
    "\n",
    "Based on the following AWS sample: https://aws.amazon.com/getting-started/hands-on/deploy-a-machine-learning-model-to-a-serverless-inference-endpoint/"
   ]
  },
  {
   "cell_type": "markdown",
   "id": "9b41e53c-542e-4765-a270-bc1e3b82e2ad",
   "metadata": {},
   "source": [
    "First install the aiobotocore package which provides an interface to the AWS services that we'll be using. We won't restart the kernel yet, so ignore that message."
   ]
  },
  {
   "cell_type": "code",
   "execution_count": null,
   "id": "317d7866-0a3b-4459-b58f-4ecbe7236fc9",
   "metadata": {},
   "outputs": [],
   "source": [
    "%pip install --upgrade -q aiobotocore "
   ]
  },
  {
   "cell_type": "markdown",
   "id": "cba38107-d9e9-40ae-9574-ffdf1ed28747",
   "metadata": {},
   "source": [
    "We also need to install s3fs which enables Python to work with S3, after this be sure to restart the kernel."
   ]
  },
  {
   "cell_type": "code",
   "execution_count": null,
   "id": "eb30706d-d577-41ce-9799-e6eb2b942e90",
   "metadata": {},
   "outputs": [],
   "source": [
    "pip install s3fs"
   ]
  },
  {
   "cell_type": "markdown",
   "id": "a5cd3a65-c5e4-4ebc-a40e-623b35116381",
   "metadata": {},
   "source": [
    "Import the libararies we need to build and deploy our model, and configure some parameters, including locations for model artifacts in S3."
   ]
  },
  {
   "cell_type": "code",
   "execution_count": null,
   "id": "39facbc5-fc21-4165-9690-69b27c4c0f4e",
   "metadata": {},
   "outputs": [],
   "source": [
    "import pandas as pd\n",
    "import boto3\n",
    "import sagemaker\n",
    "import time\n",
    "import json\n",
    "import io\n",
    "from io import StringIO\n",
    "import base64\n",
    "import re\n",
    "import s3fs\n",
    "\n",
    "from sagemaker.image_uris import retrieve\n",
    "\n",
    "sess = sagemaker.Session()\n",
    "\n",
    "region = sess.boto_region_name\n",
    "s3_client = boto3.client(\"s3\", region_name=region)\n",
    "sm_client = boto3.client(\"sagemaker\", region_name=region)\n",
    "sm_runtime_client = boto3.client(\"sagemaker-runtime\")\n",
    "\n",
    "sagemaker_role = sagemaker.get_execution_role()\n",
    "\n",
    "\n",
    "# S3 locations used for parameterizing the notebook run\n",
    "read_bucket = \"sagemaker-sample-files\"\n",
    "read_prefix = \"datasets/tabular/synthetic_automobile_claims\" \n",
    "model_prefix = \"models/xgb-fraud\"\n",
    "\n",
    "# S3 location of trained model artifact\n",
    "model_uri = f\"s3://{read_bucket}/{model_prefix}/fraud-det-xgb-model.tar.gz\"\n",
    "\n",
    "# S3 locatin of test data\n",
    "test_data_uri = f\"s3://{read_bucket}/{read_prefix}/test.csv\""
   ]
  },
  {
   "cell_type": "markdown",
   "id": "c9c71ff3-090b-4d54-aa4b-65a8a0cb4b30",
   "metadata": {},
   "source": [
    "We're using the SageMaker managed XGBoost image, in this step we retrieve the image and set the model name."
   ]
  },
  {
   "cell_type": "code",
   "execution_count": null,
   "id": "ccf95665-8873-420c-abb9-98896db631c5",
   "metadata": {},
   "outputs": [],
   "source": [
    "# Retrieve the SageMaker managed XGBoost image\n",
    "training_image = retrieve(framework=\"xgboost\", region=region, version=\"1.3-1\")\n",
    "\n",
    "# Specify an unique model name that does not exist\n",
    "model_name = \"fraud-detect-xgb\"\n",
    "primary_container = {\n",
    "                     \"Image\": training_image,\n",
    "                     \"ModelDataUrl\": model_uri\n",
    "                    }\n",
    "\n",
    "model_matches = sm_client.list_models(NameContains=model_name)[\"Models\"]\n",
    "if not model_matches:\n",
    "    model = sm_client.create_model(ModelName=model_name,\n",
    "                                   PrimaryContainer=primary_container,\n",
    "                                   ExecutionRoleArn=sagemaker_role)\n",
    "else:\n",
    "    print(f\"Model with name {model_name} already exists! Change model name to create new\")"
   ]
  },
  {
   "cell_type": "markdown",
   "id": "e8d62b56-f11f-4ef2-9ca6-714ae1ad9a35",
   "metadata": {},
   "source": [
    "Here's our endpoint configuration, specifying the memory we want to allocate to the serverless endpoint, and the max concurrent invocations."
   ]
  },
  {
   "cell_type": "code",
   "execution_count": null,
   "id": "f0311889-4514-4d64-ae23-143470c82d94",
   "metadata": {},
   "outputs": [],
   "source": [
    "# Endpoint Config name\n",
    "endpoint_config_name = f\"{model_name}-serverless-epconfig\"\n",
    "\n",
    "# Endpoint conifg parameters\n",
    "production_variant_dict = {\n",
    "                           \"VariantName\": \"Alltraffic\",\n",
    "                           \"ModelName\": model_name,\n",
    "                           \"ServerlessConfig\": {\"MemorySizeInMB\": 3072, # Endpoint memory in MB\n",
    "                                                \"MaxConcurrency\": 1 # Number of concurrent invocations\n",
    "                                               }\n",
    "                          }\n",
    "\n",
    "# Create endpoint config if one with the same name does not exist\n",
    "endpoint_config_matches = sm_client.list_endpoint_configs(NameContains=endpoint_config_name)[\"EndpointConfigs\"]\n",
    "if not endpoint_config_matches:\n",
    "    endpoint_config_response = sm_client.create_endpoint_config(\n",
    "                                                                EndpointConfigName=endpoint_config_name,\n",
    "                                                                ProductionVariants=[production_variant_dict]\n",
    "                                                               )\n",
    "else:\n",
    "    print(f\"Endpoint config with name {endpoint_config_name} already exists! Change endpoint config name to create new\")"
   ]
  },
  {
   "cell_type": "markdown",
   "id": "9b0e95c9-da63-45bd-ab15-f932868c27b5",
   "metadata": {},
   "source": [
    "Next, we deploy the model by creating the endpoint using the endpoint configuration that we created, it might take a few minutes to deploy."
   ]
  },
  {
   "cell_type": "code",
   "execution_count": null,
   "id": "8ee7de65-7a2a-4ef9-a4fb-602eedd959ff",
   "metadata": {},
   "outputs": [],
   "source": [
    "# Endpoint name\n",
    "endpoint_name = f\"{model_name}-serverless-ep\"\n",
    "\n",
    "# Create endpoint if one with the same name does not exist\n",
    "endpoint_matches = sm_client.list_endpoints(NameContains=endpoint_name)[\"Endpoints\"]\n",
    "if not endpoint_matches:\n",
    "    endpoint_response = sm_client.create_endpoint(\n",
    "                                                  EndpointName=endpoint_name,\n",
    "                                                  EndpointConfigName=endpoint_config_name\n",
    "                                                 )\n",
    "else:\n",
    "    print(f\"Endpoint with name {endpoint_name} already exists! Change endpoint name to create new\")\n",
    "\n",
    "resp = sm_client.describe_endpoint(EndpointName=endpoint_name)\n",
    "status = resp[\"EndpointStatus\"]\n",
    "while status == \"Creating\":\n",
    "    print(f\"Endpoint Status: {status}...\")\n",
    "    time.sleep(60)\n",
    "    resp = sm_client.describe_endpoint(EndpointName=endpoint_name)\n",
    "    status = resp[\"EndpointStatus\"]\n",
    "print(f\"Endpoint Status: {status}\")"
   ]
  },
  {
   "cell_type": "markdown",
   "id": "bfdac781-0bff-4b4b-9b04-dd1350572cb0",
   "metadata": {},
   "source": [
    "Invoke the endpoint by running some predictions using some sample data that is formatted using serialization and deserialization. The model output is an example of binary classification, predicting whether the sampled insurance claims are fraudulent. 1 means fraud, 0 means not fraud. "
   ]
  },
  {
   "cell_type": "code",
   "execution_count": null,
   "id": "2297ecbd-64ff-441c-bc89-772a3f1413fb",
   "metadata": {},
   "outputs": [],
   "source": [
    "# Fetch test data to run predictions with the endpoint\n",
    "test_df = pd.read_csv(test_data_uri)\n",
    "\n",
    "# For content type text/csv, payload should be a string with commas separating the values for each feature\n",
    "# This is the inference request serialization step\n",
    "# CSV serialization\n",
    "csv_file = io.StringIO()\n",
    "test_sample = test_df.drop([\"fraud\"], axis=1).iloc[:5]\n",
    "test_sample.to_csv(csv_file, sep=\",\", header=False, index=False)\n",
    "payload = csv_file.getvalue()\n",
    "response = sm_runtime_client.invoke_endpoint(\n",
    "                                             EndpointName=endpoint_name,\n",
    "                                             Body=payload,\n",
    "                                             ContentType=\"text/csv\"\n",
    "                                            )\n",
    "\n",
    "# This is the inference response deserialization step\n",
    "# This is a bytes object\n",
    "result = response[\"Body\"].read()\n",
    "# Decoding bytes to a string with comma separated predictions\n",
    "result = result.decode(\"utf-8\")\n",
    "# Converting to list of predictions\n",
    "result = re.split(\",|\\n\",result)\n",
    "\n",
    "prediction_df = pd.DataFrame()\n",
    "prediction_df[\"Prediction\"] = result[:5]\n",
    "prediction_df[\"Label\"] = test_df[\"fraud\"].iloc[:5].values\n",
    "prediction_df"
   ]
  },
  {
   "cell_type": "code",
   "execution_count": null,
   "id": "bf0d0d66-2402-44ab-8c48-76d54828e9dc",
   "metadata": {},
   "outputs": [],
   "source": [
    "Here are the steps to delete the model and endpoint."
   ]
  },
  {
   "cell_type": "code",
   "execution_count": null,
   "id": "b073dbaf-2189-40c2-b665-8153c922196e",
   "metadata": {},
   "outputs": [],
   "source": [
    "# Delete model\n",
    "sm_client.delete_model(ModelName=model_name)\n",
    "\n",
    "# Delete endpoint configuration\n",
    "sm_client.delete_endpoint_config(EndpointConfigName=endpoint_config_name)\n",
    "\n",
    "# Delete endpoint\n",
    "sm_client.delete_endpoint(EndpointName=endpoint_name)"
   ]
  }
 ],
 "metadata": {
  "kernelspec": {
   "display_name": "Python 3 (ipykernel)",
   "language": "python",
   "name": "python3"
  },
  "language_info": {
   "codemirror_mode": {
    "name": "ipython",
    "version": 3
   },
   "file_extension": ".py",
   "mimetype": "text/x-python",
   "name": "python",
   "nbconvert_exporter": "python",
   "pygments_lexer": "ipython3",
   "version": "3.11.10"
  }
 },
 "nbformat": 4,
 "nbformat_minor": 5
}
